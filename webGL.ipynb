{
 "cells": [
  {
   "cell_type": "markdown",
   "metadata": {},
   "source": [
    "# webGL a jupyter-ben"
   ]
  },
  {
   "cell_type": "markdown",
   "metadata": {},
   "source": [
    "Ehhez kell a [pythreejs](https://github.com/jovyan/pythreejs) csomag.."
   ]
  },
  {
   "cell_type": "code",
   "execution_count": 1,
   "metadata": {
    "collapsed": false
   },
   "outputs": [
    {
     "name": "stdout",
     "output_type": "stream",
     "text": [
      "Populating the interactive namespace from numpy and matplotlib\n"
     ]
    }
   ],
   "source": [
    "%pylab inline\n",
    "#% config InlineBackend.figure_format = 'svg'\n",
    "from pythreejs import *\n",
    "import numpy as np\n",
    "from IPython.display import display, clear_output, HTML\n",
    "from ipywidgets import interact, interactive\n",
    "from ipywidgets import HBox\n",
    "from io import BytesIO \n",
    "from ipywidgets import HTML, Text\n",
    "from traitlets import link, dlink\n",
    "\n",
    "import base64 \n",
    "\n"
   ]
  },
  {
   "cell_type": "code",
   "execution_count": 2,
   "metadata": {
    "collapsed": true
   },
   "outputs": [],
   "source": [
    "def eqimg(eqstr):\n",
    "    sio2=BytesIO();\n",
    "    figsize(2,2);\n",
    "    fig=figure();\n",
    "    ax=fig.add_subplot(111);\n",
    "    ax.text(0,0.3,eqstr,fontsize=60);\n",
    "    ax.axis('off');\n",
    "    fig.savefig(sio2, format=\"png\",transparent=True)\n",
    "    figstr='data:image/png;base64,'+(base64.encodebytes(sio2.getvalue()).decode());\n",
    "    return figstr\n",
    "\n",
    "def threeaxes(l,arrl):\n",
    "    linesgeom = PlainGeometry(vertices=[[-l,0,0],[l,0,0],\n",
    "                                        [0,-l,0],[0,l,0],\n",
    "                                        [0,0,-l],[0,0,l],\n",
    "                                        [l-arrl,-arrl,0],[l,0,0],\n",
    "                                        [l-arrl,arrl,0],[l,0,0],\n",
    "                                        [-arrl,l-arrl,0],[0,l,0],\n",
    "                                        [arrl,l-arrl,0],[0,l,0],\n",
    "                                       [-arrl,0,l-arrl],[0,0,l],\n",
    "                                        [arrl,0,l-arrl],[0,0,l],],\n",
    "                          colors = ['black' for i in range(18)])\n",
    "    return Line(geometry=linesgeom, \n",
    "             material=LineBasicMaterial( linewidth=1, vertexColors='VertexColors'), \n",
    "             type='LinePieces')"
   ]
  },
  {
   "cell_type": "code",
   "execution_count": 3,
   "metadata": {
    "collapsed": true
   },
   "outputs": [],
   "source": [
    "%%capture\n",
    "axd=Sprite(position=[2.6,0.3,-0.25],scaleToTexture=True,scale=[1.0,1.0,1.0],\n",
    "           material=SpriteMaterial(map=ImageTexture(imageuri=eqimg(r'$d_x$'))))\n",
    "ayd=Sprite(position=[0.3,2.6,-0.25],scaleToTexture=True,scale=[1.0,1.0,1.0],\n",
    "           material=SpriteMaterial(map=ImageTexture(imageuri=eqimg(r'$d_y$'))))\n",
    "azd=Sprite(position=[-0.6,0.3,2.6],scaleToTexture=True,scale=[1.0,1.0,1.0],\n",
    "           material=SpriteMaterial(map=ImageTexture(imageuri=eqimg(r'$d_z$'))))\n",
    "\n",
    "\n",
    "orig = Mesh(geometry=SphereGeometry(radius=0.1),material=BasicMaterial(color = 0x000000));"
   ]
  },
  {
   "cell_type": "code",
   "execution_count": 4,
   "metadata": {
    "collapsed": true
   },
   "outputs": [],
   "source": [
    "def bhzp2_js(ub,ue,vb,ve,Delta):\n",
    "     return \"\"\"\n",
    "        bhzp2 = function (u, v) {\n",
    "            var x = Math.sin((u*%.3f+%.3f) * 2 * Math.PI);\n",
    "            var y = Math.sin((v*%.3f+%.3f) * 2 * Math.PI);\n",
    "            var z = (Math.cos((u*%.3f+%.3f) * 2 * Math.PI) + Math.cos((v*%.3f+%.3f) * 2 * Math.PI)) +%.3f ;\n",
    "            return new THREE.Vector3(x, y, z);\n",
    "          }\n",
    "        \"\"\"%tuple([ue,ub,ve,vb,ue,ub,ve,vb,Delta])    \n",
    "\n",
    "    \n",
    "def look_at_bzhp2(ub,ue,vb,ve,Delta):    \n",
    "    surf_g = ParametricGeometry(func=bhzp2_js(ub,ue,vb,ve,Delta),slices=15,stacks=15);\n",
    "    surf = Mesh(geometry=surf_g,material=LambertMaterial(color = 0xff0000,side ='FrontSide'));\n",
    "    surf2 = Mesh(geometry=surf_g,material=LambertMaterial(color = 0x00ffff,side ='BackSide'));  \n",
    "    return  Scene(children=[surf,surf2,threeaxes(2.6,0.15),orig,axd,ayd,azd,AmbientLight(color=0x101010)]);\n",
    "        \n",
    "\n",
    "c1 = PerspectiveCamera(position=[4,4,4], up=[0,0,1],\n",
    "                      aspect =1.0,children=[DirectionalLight(position=[-3,-3,-3], color=[255,255,255])]);\n",
    "rnd = Renderer(scene=look_at_bzhp2(0,1.0,-0.5,0.5,-1.0),\n",
    "               camera=c1,\n",
    "               controls=[OrbitControls(controlling=c1)],\n",
    "               background='white',\n",
    "               width = 500,height = 500)\n"
   ]
  },
  {
   "cell_type": "code",
   "execution_count": 5,
   "metadata": {
    "collapsed": true
   },
   "outputs": [],
   "source": [
    "%%capture\n",
    "axk=Sprite(position=[1.5*pi,0.3,-0.5],scaleToTexture=True,scale=[1.6,1.6,1.6],\n",
    "           material=SpriteMaterial(map=ImageTexture(imageuri=eqimg(r'$k_x$'))))\n",
    "ayk=Sprite(position=[0.3,1.5*pi,-0.5],scaleToTexture=True,scale=[1.6,1.6,1.6],\n",
    "           material=SpriteMaterial(map=ImageTexture(imageuri=eqimg(r'$k_y$'))))\n",
    "azE=Sprite(position=[-0.5,1.3,1.5*pi],scaleToTexture=True,scale=[1.6,1.6,1.6],\n",
    "           material=SpriteMaterial(map=ImageTexture(imageuri=eqimg(r'$E(\\vec{k})$'))))\n",
    "\n",
    "\n",
    "nx,ny=(25,25)\n",
    "xmax=pi\n",
    "x = np.linspace(-xmax,xmax,nx)\n",
    "y = np.linspace(-xmax,xmax,ny)\n",
    "xx, yy = np.meshgrid(x,y)\n",
    "z = sqrt(sin(xx)**2+sin(yy)**2+(cos(xx)+cos(yy)+(-2.0))**2)\n",
    "\n",
    "surf_ge = SurfaceGeometry(z=list(z[::-1].flat),\n",
    "                          width=2*xmax,height=2*xmax,width_segments=nx-1,height_segments=ny-1)\n",
    "surf_gh = SurfaceGeometry(z=list((-z[::-1]).flat),\n",
    "                          width=2*xmax,height=2*xmax,width_segments=nx-1,height_segments=ny-1)\n",
    "\n",
    "surfe = Mesh(geometry=surf_ge, material=PhongMaterial(map=height_texture(z[::-1], 'jet')))\n",
    "surfh = Mesh(geometry=surf_gh, material=PhongMaterial(map=height_texture(-z[::-1], 'jet_r')))\n",
    "\n",
    "scene = Scene(children=[surfe,\n",
    "                        surfh,\n",
    "                        threeaxes(1.5*pi,0.3), \n",
    "                        axk,ayk,azE,\n",
    "                        AmbientLight(color=0x101010)])\n",
    "c2 = PerspectiveCamera(position=[6,13,4], up=[0,0,1],\n",
    "                      aspect =1.0,\n",
    "                      children=[DirectionalLight(color='white', position=[3,5,1], intensity=1)])\n",
    "\n",
    "rnd2 = Renderer(camera=c2, scene = scene, controls=[OrbitControls(controlling=c2)],\n",
    "               background='white',\n",
    "               width = 500,height = 500)\n",
    "\n"
   ]
  },
  {
   "cell_type": "markdown",
   "metadata": {},
   "source": [
    "#### Spectrum and $d$ space configuration of the QWZ model\n",
    "\n",
    "\\begin{eqnarray*}\n",
    "H=\\mathbf{d}(\\mathbf{k})\\cdot\\sigma\\\\\n",
    "E_\\pm(\\mathbf{k})=\\pm|\\mathbf{d}(\\mathbf{k})|\n",
    "\\end{eqnarray*}\n",
    "\n"
   ]
  },
  {
   "cell_type": "code",
   "execution_count": 6,
   "metadata": {
    "collapsed": true
   },
   "outputs": [],
   "source": [
    "@interact(u=(-3,3,0.025),p=(0.025,1,0.025))\n",
    "def play(u=-1,p=0.025):\n",
    "    rnd.scene.children[0].geometry=ParametricGeometry(func=bhzp2_js(0,1.0,-0.5,p,u),slices=25,stacks=25)\n",
    "    rnd.scene.children[1].geometry=ParametricGeometry(func=bhzp2_js(0,1.0,-0.5,p,u),slices=25,stacks=25)\n",
    "    zz=sqrt(sin(xx)**2+sin(yy)**2+(cos(xx)+cos(yy)+(u))**2);\n",
    "    rnd2.scene.children[0].geometry.z=list((zz)[::-1].flat)\n",
    "    #rnd2.scene.children[0].material=LambertMaterial(map=height_texture(zz[::-1], 'jet'));\n",
    "    rnd2.scene.children[0].material=LambertMaterial(color='red');\n",
    "    rnd2.scene.children[1].geometry.z=list((-zz)[::-1].flat)\n",
    "    #rnd2.scene.children[1].material=LambertMaterial(map=height_texture(-zz[::-1], 'jet_r'));\n",
    "    rnd2.scene.children[1].material=LambertMaterial(color='blue');\n",
    "display(HBox([rnd, rnd2]))"
   ]
  },
  {
   "cell_type": "code",
   "execution_count": null,
   "metadata": {
    "collapsed": true
   },
   "outputs": [],
   "source": []
  }
 ],
 "metadata": {
  "kernelspec": {
   "display_name": "Python 3",
   "language": "python",
   "name": "python3"
  },
  "language_info": {
   "codemirror_mode": {
    "name": "ipython",
    "version": 3
   },
   "file_extension": ".py",
   "mimetype": "text/x-python",
   "name": "python",
   "nbconvert_exporter": "python",
   "pygments_lexer": "ipython3",
   "version": "3.4.3"
  },
  "latex_envs": {
   "bibliofile": "biblio.bib",
   "cite_by": "apalike",
   "current_citInitial": 1,
   "eqLabelWithNumbers": true,
   "eqNumInitial": 0
  }
 },
 "nbformat": 4,
 "nbformat_minor": 0
}
