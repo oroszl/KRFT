{
 "cells": [
  {
   "cell_type": "markdown",
   "metadata": {},
   "source": [
    "# Markdown cellák jupyterben"
   ]
  },
  {
   "cell_type": "markdown",
   "metadata": {},
   "source": [
    "## Listák\n",
    "\n",
    "- egy\n",
    "- kettő\n",
    "- három\n",
    "- négy"
   ]
  },
  {
   "cell_type": "markdown",
   "metadata": {},
   "source": [
    "## Linkek és belinkelt tartalmak\n",
    "\n",
    "Ez itt egy oldal amin sokminden van: [Wikipedia](http://www.wikipedia.org)\n",
    "\n",
    "Ez itt egy kép: ![Eötvös Loránd](http://mta.hu/data/cikk/12/91/53/cikk_129153/eotvos.jpeg)"
   ]
  },
  {
   "cell_type": "markdown",
   "metadata": {},
   "source": [
    "## Táblázatok és kód blokkok"
   ]
  },
  {
   "cell_type": "markdown",
   "metadata": {},
   "source": [
    "\n",
    "Ez itt egy táblázat:\n",
    "\n",
    "First Header  | Second Header\n",
    "------------- | -------------\n",
    "Content Cell  | Content Cell\n",
    "Content Cell  | Content Cell\n"
   ]
  },
  {
   "cell_type": "markdown",
   "metadata": {},
   "source": [
    "Itt egy kód részlet:\n",
    "\n",
    ">```python\n",
    ">   \n",
    ">x=linspace(-pi,pi,1000)\n",
    ">y=sin(x)\n",
    ">plot(x,y)\n",
    ">\n",
    ">```\n",
    ">"
   ]
  },
  {
   "cell_type": "markdown",
   "metadata": {},
   "source": [
    "## Latex"
   ]
  },
  {
   "cell_type": "markdown",
   "metadata": {},
   "source": [
    "Ha \"Markdown\" formázással  \\$ \\$ -jelek közzé teszünk szöveget akkor szép matematikai képleteket tudunk írni, például ilyeneket hogy $\\sin(\\alpha+\\beta)=\\sin(\\alpha)\\cos(\\beta)+\\cos(\\alpha)\\sin(\\beta)$. Ha egy képeletet nagyon ki akarunk emelni a szövegből akkor tegyük két \\$ jel közzé! $$E=mc^2$$"
   ]
  },
  {
   "cell_type": "markdown",
   "metadata": {},
   "source": [
    "Ha \"Markdown\" formázással  \\$ \\$ -jelek közzé teszünk szöveget akkor szép matematikai képleteket tudunk írni, például ilyeneket hogy $\\sin(\\alpha+\\beta)=\\sin(\\alpha)\\cos(\\beta)+\\cos(\\alpha)\\sin(\\beta)$. Ha egy képeletet nagyon ki akarunk emelni a szövegből akkor tegyük két \\$ jel közzé! $$E=mc^2$$"
   ]
  },
  {
   "cell_type": "markdown",
   "metadata": {},
   "source": [
    "1. Amint a fenti példában is láttuk görög betűket egy \\\\-el kezdünk és angolul nevezzük őket meg. Például $\\alpha$,$\\beta$,$\\gamma$,$\\delta$.\n",
    "2. Az ismertebb matematikai függvényeket is lehet \\\\-el kezdeni de nem muszáj. Figyeljük meg a különbséget $\\sin(x)$ és $sin(x)$.\n",
    "3. Így írhatunk alsó és felső indexeket $a_i$, $c^2$.\n",
    "4. Így pedig törteket $\\frac{1}{2}$.\n",
    "5. Egy összegzés $\\mathrm{e}^x=\\sum_n \\frac{x^n}{n!}$. Itt a \\\\mathrm\\{\\} kifejezés segítségével az e karakter dölt jellegét tudtuk megszüntetni.\n",
    "6. Figyeljük meg a különbség-et az ha kettő \\$\\$-t használunk $$\\mathrm{e}^x=\\sum_n \\frac{x^n}{n!} $$\n",
    "7. Integrálni, deriválni és parciálisan deriválni pedig így tudnunk $$\\int \\mathrm{e}^x \\mathrm{d} x=\\mathrm{e}^x+C$$ $$\\frac{\\mathrm{d}\\mathrm{e}^x}{ \\mathrm{d} x}=\\mathrm{e}^x$$ $$\\frac{\\partial\\mathrm{e}^x}{ \\partial x}=\\partial_x \\mathrm{e}^x=\\mathrm{e}^x$$ \n",
    "8. Itt egy pár példa vastag betűs vektorokra $$\\mathbf{a}\\cdot\\mathbf{b}=\\sum_{i=1}^3 a_ib_i$$\n",
    "9. Itt pedig egy példa felülvonásra $$\\overline{x}=\\frac{1}{N}\\sum_{i=1}^Nx_i$$\n",
    "10. Gyökjelet pedig így lehet írni $\\gamma=\\sqrt{1-v^2/c^2}$\n",
    "\n",
    "Végül pedig egy mindenkit izgató kérdés:\n",
    "\n",
    "\n",
    "$$\\frac{1}{2}x+b_u\\cdot x=?$$"
   ]
  },
  {
   "cell_type": "markdown",
   "metadata": {},
   "source": [
    "A \\$ és \\$$ konstrukciókon túl egyéb latex konstrukciók is működnek\n",
    "\n",
    "\\begin{equation}\n",
    " \\lim_{x\\to 0}{\\frac{e^x-1}{2x}}\n",
    " \\overset{\\left[\\frac{0}{0}\\right]}{\\underset{\\mathrm{H}}{=}}\n",
    " \\lim_{x\\to 0}{\\frac{e^x}{2}}={\\frac{1}{2}}\n",
    "\\end{equation}"
   ]
  }
 ],
 "metadata": {
  "kernelspec": {
   "display_name": "Python 2",
   "language": "python",
   "name": "python2"
  },
  "language_info": {
   "codemirror_mode": {
    "name": "ipython",
    "version": 2
   },
   "file_extension": ".py",
   "mimetype": "text/x-python",
   "name": "python",
   "nbconvert_exporter": "python",
   "pygments_lexer": "ipython2",
   "version": "2.7.6"
  },
  "latex_envs": {
   "bibliofile": "biblio.bib",
   "cite_by": "apalike",
   "current_citInitial": 1,
   "eqLabelWithNumbers": true,
   "eqNumInitial": 0
  },
  "name": "mintapelda00.ipynb"
 },
 "nbformat": 4,
 "nbformat_minor": 0
}
