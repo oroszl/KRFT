{
 "cells": [
  {
   "cell_type": "markdown",
   "metadata": {},
   "source": [
    "# Ez a notebook 100% octave\n",
    "\n",
    "A markdown celák természetesen kernel függetlenek!"
   ]
  },
  {
   "cell_type": "code",
   "execution_count": 1,
   "metadata": {
    "collapsed": false
   },
   "outputs": [
    {
     "data": {
      "text/plain": [
       "x =\r\n",
       "\r\n",
       " Columns 1 through 6:\r\n",
       "\r\n",
       "   0.0338459   0.7363566   0.4559908   0.9269918   0.9369702   0.7337466\r\n",
       "   0.2098339   0.0530262   0.6595927   0.8174251   0.4950706   0.9805191\r\n",
       "   0.9269181   0.4400840   0.7693084   0.4604436   0.3311866   0.9527436\r\n",
       "   0.0619068   0.1947382   0.5582383   0.9331490   0.0121814   0.4137227\r\n",
       "   0.1233735   0.5684976   0.2645212   0.1150265   0.4194217   0.4435517\r\n",
       "   0.3370340   0.6673283   0.4596683   0.9853825   0.9044163   0.5201253\r\n",
       "   0.5823980   0.3049554   0.4635354   0.9457737   0.5409254   0.5362901\r\n",
       "   0.5291237   0.0927873   0.5014541   0.5886953   0.5410376   0.0066969\r\n",
       "   0.6188756   0.6339583   0.1630996   0.5431124   0.9374107   0.4095813\r\n",
       "   0.0660735   0.2485030   0.5080443   0.7800082   0.2684583   0.4308826\r\n",
       "\r\n",
       " Columns 7 through 10:\r\n",
       "\r\n",
       "   0.4070979   0.4960931   0.9580933   0.9037691\r\n",
       "   0.0506842   0.6908039   0.8090042   0.0468894\r\n",
       "   0.0588541   0.4311838   0.4969304   0.4243974\r\n",
       "   0.0803828   0.3164233   0.1568260   0.3549762\r\n",
       "   0.5133439   0.3418075   0.9300139   0.8269198\r\n",
       "   0.6119417   0.6559906   0.3599971   0.3819537\r\n",
       "   0.6984703   0.2688319   0.8660412   0.0322034\r\n",
       "   0.6495855   0.6022135   0.2327353   0.2082431\r\n",
       "   0.7569347   0.6720358   0.5086703   0.8525018\r\n",
       "   0.6441544   0.6620807   0.8580128   0.6678220\r\n",
       "\r\n"
      ]
     },
     "execution_count": 1,
     "metadata": {},
     "output_type": "execute_result"
    }
   ],
   "source": [
    "x=rand(10)"
   ]
  },
  {
   "cell_type": "code",
   "execution_count": 2,
   "metadata": {
    "collapsed": true
   },
   "outputs": [],
   "source": [
    "y=rand(10);\n"
   ]
  },
  {
   "cell_type": "code",
   "execution_count": 3,
   "metadata": {
    "collapsed": false
   },
   "outputs": [
    {
     "data": {
      "image/svg+xml": [
       "<svg height=\"420px\" viewBox=\"0 0 268 201\" width=\"560px\" xmlns=\"http://www.w3.org/2000/svg\" xmlns:xlink=\"http://www.w3.org/1999/xlink\">\n",
       "\n",
       "<title>Gnuplot</title>\n",
       "<desc>Produced by GNUPLOT 4.6 patchlevel 4 </desc>\n",
       "\n",
       "<g id=\"gnuplot_canvas\">\n",
       "\n",
       "<rect fill=\"none\" height=\"201\" width=\"268\" x=\"0\" y=\"0\"/>\n",
       "<defs>\n",
       "\n",
       "\t<circle id=\"gpDot\" r=\"0.5\" stroke-width=\"0.5\"/>\n",
       "\t<path d=\"M-1,0 h2 M0,-1 v2\" id=\"gpPt0\" stroke=\"currentColor\" stroke-width=\"0.333\"/>\n",
       "\t<path d=\"M-1,-1 L1,1 M1,-1 L-1,1\" id=\"gpPt1\" stroke=\"currentColor\" stroke-width=\"0.333\"/>\n",
       "\t<path d=\"M-1,0 L1,0 M0,-1 L0,1 M-1,-1 L1,1 M-1,1 L1,-1\" id=\"gpPt2\" stroke=\"currentColor\" stroke-width=\"0.333\"/>\n",
       "\t<rect height=\"2\" id=\"gpPt3\" stroke=\"currentColor\" stroke-width=\"0.333\" width=\"2\" x=\"-1\" y=\"-1\"/>\n",
       "\t<rect fill=\"currentColor\" height=\"2\" id=\"gpPt4\" stroke=\"currentColor\" stroke-width=\"0.333\" width=\"2\" x=\"-1\" y=\"-1\"/>\n",
       "\t<circle cx=\"0\" cy=\"0\" id=\"gpPt5\" r=\"1\" stroke=\"currentColor\" stroke-width=\"0.333\"/>\n",
       "\t<use fill=\"currentColor\" id=\"gpPt6\" stroke=\"none\" xlink:href=\"#gpPt5\"/>\n",
       "\t<path d=\"M0,-1.33 L-1.33,0.67 L1.33,0.67 z\" id=\"gpPt7\" stroke=\"currentColor\" stroke-width=\"0.333\"/>\n",
       "\t<use fill=\"currentColor\" id=\"gpPt8\" stroke=\"none\" xlink:href=\"#gpPt7\"/>\n",
       "\t<use id=\"gpPt9\" stroke=\"currentColor\" transform=\"rotate(180)\" xlink:href=\"#gpPt7\"/>\n",
       "\t<use fill=\"currentColor\" id=\"gpPt10\" stroke=\"none\" xlink:href=\"#gpPt9\"/>\n",
       "\t<use id=\"gpPt11\" stroke=\"currentColor\" transform=\"rotate(45)\" xlink:href=\"#gpPt3\"/>\n",
       "\t<use fill=\"currentColor\" id=\"gpPt12\" stroke=\"none\" xlink:href=\"#gpPt11\"/>\n",
       "</defs>\n",
       "<g style=\"fill:none; color:white; stroke:currentColor; stroke-width:1.00; stroke-linecap:butt; stroke-linejoin:miter\">\n",
       "</g>\n",
       "<g style=\"fill:none; color:black; stroke:currentColor; stroke-width:1.00; stroke-linecap:butt; stroke-linejoin:miter\">\n",
       "\t<g style=\"stroke:none; shape-rendering:crispEdges\">\n",
       "\t\t<polygon fill=\"rgb(255, 255, 255)\" points=\"36.4,177.6 251.8,177.6 251.8,11.4 36.4,11.4 \"/>\n",
       "\t</g>\n",
       "\t<path d=\"M36.4,177.6 L36.4,11.4 L251.8,11.4 L251.8,177.6 L36.4,177.6  h0.01\" stroke=\"black\"/></g>\n",
       "<g style=\"fill:none; color:black; stroke:black; stroke-width:0.50; stroke-linecap:butt; stroke-linejoin:miter\">\n",
       "\t<path d=\"M36.4,177.6 L44.8,177.6 M251.9,177.6 L243.5,177.6  h0.01\" stroke=\"black\"/>\t<g style=\"stroke:none; fill:rgb(0,0,0); font-family:{}; font-size:10.00pt; text-anchor:end\" transform=\"translate(30.8,181.3)\">\n",
       "\t\t<text><tspan>-1</tspan></text>\n",
       "\t</g>\n",
       "\t<path d=\"M36.4,136.0 L44.8,136.0 M251.9,136.0 L243.5,136.0  h0.01\" stroke=\"black\"/>\t<g style=\"stroke:none; fill:rgb(0,0,0); font-family:{}; font-size:10.00pt; text-anchor:end\" transform=\"translate(30.8,139.7)\">\n",
       "\t\t<text><tspan>-0.5</tspan></text>\n",
       "\t</g>\n",
       "\t<path d=\"M36.4,94.4 L44.8,94.4 M251.9,94.4 L243.5,94.4  h0.01\" stroke=\"black\"/>\t<g style=\"stroke:none; fill:rgb(0,0,0); font-family:{}; font-size:10.00pt; text-anchor:end\" transform=\"translate(30.8,98.1)\">\n",
       "\t\t<text><tspan>0</tspan></text>\n",
       "\t</g>\n",
       "\t<path d=\"M36.4,52.9 L44.8,52.9 M251.9,52.9 L243.5,52.9  h0.01\" stroke=\"black\"/>\t<g style=\"stroke:none; fill:rgb(0,0,0); font-family:{}; font-size:10.00pt; text-anchor:end\" transform=\"translate(30.8,56.6)\">\n",
       "\t\t<text><tspan>0.5</tspan></text>\n",
       "\t</g>\n",
       "\t<path d=\"M36.4,11.3 L44.8,11.3 M251.9,11.3 L243.5,11.3  h0.01\" stroke=\"black\"/>\t<g style=\"stroke:none; fill:rgb(0,0,0); font-family:{}; font-size:10.00pt; text-anchor:end\" transform=\"translate(30.8,15.0)\">\n",
       "\t\t<text><tspan>1</tspan></text>\n",
       "\t</g>\n",
       "\t<path d=\"M36.4,177.6 L36.4,169.2 M36.4,11.3 L36.4,19.7  h0.01\" stroke=\"black\"/>\t<g style=\"stroke:none; fill:rgb(0,0,0); font-family:{}; font-size:10.00pt; text-anchor:middle\" transform=\"translate(36.4,193.3)\">\n",
       "\t\t<text><tspan>0</tspan></text>\n",
       "\t</g>\n",
       "\t<path d=\"M79.5,177.6 L79.5,169.2 M79.5,11.3 L79.5,19.7  h0.01\" stroke=\"black\"/>\t<g style=\"stroke:none; fill:rgb(0,0,0); font-family:{}; font-size:10.00pt; text-anchor:middle\" transform=\"translate(79.5,193.3)\">\n",
       "\t\t<text><tspan>2</tspan></text>\n",
       "\t</g>\n",
       "\t<path d=\"M122.6,177.6 L122.6,169.2 M122.6,11.3 L122.6,19.7  h0.01\" stroke=\"black\"/>\t<g style=\"stroke:none; fill:rgb(0,0,0); font-family:{}; font-size:10.00pt; text-anchor:middle\" transform=\"translate(122.6,193.3)\">\n",
       "\t\t<text><tspan>4</tspan></text>\n",
       "\t</g>\n",
       "\t<path d=\"M165.7,177.6 L165.7,169.2 M165.7,11.3 L165.7,19.7  h0.01\" stroke=\"black\"/>\t<g style=\"stroke:none; fill:rgb(0,0,0); font-family:{}; font-size:10.00pt; text-anchor:middle\" transform=\"translate(165.7,193.3)\">\n",
       "\t\t<text><tspan>6</tspan></text>\n",
       "\t</g>\n",
       "\t<path d=\"M208.8,177.6 L208.8,169.2 M208.8,11.3 L208.8,19.7  h0.01\" stroke=\"black\"/>\t<g style=\"stroke:none; fill:rgb(0,0,0); font-family:{}; font-size:10.00pt; text-anchor:middle\" transform=\"translate(208.8,193.3)\">\n",
       "\t\t<text><tspan>8</tspan></text>\n",
       "\t</g>\n",
       "\t<path d=\"M251.9,177.6 L251.9,169.2 M251.9,11.3 L251.9,19.7  h0.01\" stroke=\"black\"/>\t<g style=\"stroke:none; fill:rgb(0,0,0); font-family:{}; font-size:10.00pt; text-anchor:middle\" transform=\"translate(251.9,193.3)\">\n",
       "\t\t<text><tspan>10</tspan></text>\n",
       "\t</g>\n",
       "\t<path d=\"M36.4,11.3 L36.4,177.6 L251.9,177.6 L251.9,11.3 L36.4,11.3 Z  h0.01\" stroke=\"black\"/></g>\n",
       "\t<g id=\"gnuplot_plot_1a\"><title>gnuplot_plot_1a</title>\n",
       "<g style=\"fill:none; color:red; stroke:currentColor; stroke-width:0.50; stroke-linecap:butt; stroke-linejoin:miter\">\n",
       "\t<path d=\"M36.4,94.4 L38.6,86.1 L40.7,77.9 L42.9,69.9 L45.0,62.1 L47.2,54.6 L49.3,47.5 L51.5,40.9    L53.6,34.8 L55.8,29.3 L58.0,24.5 L60.1,20.3 L62.3,17.0 L64.4,14.3 L66.6,12.5 L68.7,11.5    L70.9,11.3 L73.0,12.0 L75.2,13.5 L77.3,15.8 L79.5,18.8 L81.7,22.7 L83.8,27.2 L86.0,32.4    L88.1,38.3 L90.3,44.7 L92.4,51.6 L94.6,58.9 L96.7,66.6 L98.9,74.6 L101.1,82.7 L103.2,91.0    L105.4,99.3 L107.5,107.6 L109.7,115.7 L111.8,123.6 L114.0,131.2 L116.1,138.5 L118.3,145.3 L120.4,151.6    L122.6,157.4 L124.8,162.5 L126.9,166.9 L129.1,170.6 L131.2,173.6 L133.4,175.7 L135.5,177.1 L137.7,177.6    L139.8,177.3 L142.0,176.1 L144.2,174.2 L146.3,171.4 L148.5,167.9 L150.6,163.7 L152.8,158.7 L154.9,153.1    L157.1,146.9 L159.2,140.2 L161.4,133.1 L163.5,125.5 L165.7,117.7 L167.9,109.6 L170.0,101.4 L172.2,93.1    L174.3,84.8 L176.5,76.6 L178.6,68.5 L180.8,60.8 L182.9,53.4 L185.1,46.4 L187.3,39.8 L189.4,33.8    L191.6,28.5 L193.7,23.7 L195.9,19.7 L198.0,16.5 L200.2,14.0 L202.3,12.3 L204.5,11.4 L206.6,11.4    L208.8,12.2 L211.0,13.8 L213.1,16.2 L215.3,19.4 L217.4,23.4 L219.6,28.1 L221.7,33.4 L223.9,39.3    L226.0,45.8 L228.2,52.8 L230.4,60.2 L232.5,67.9 L234.7,75.9 L236.8,84.1 L239.0,92.4 L241.1,100.7    L243.3,108.9 L245.4,117.0 L247.6,124.9 L249.7,132.5 L251.9,139.7  h0.01\" stroke=\"rgb(  0,   0, 255)\"/></g>\n",
       "\t</g>\n",
       "<g style=\"fill:none; color:black; stroke:currentColor; stroke-width:0.50; stroke-linecap:butt; stroke-linejoin:miter\">\n",
       "</g>\n",
       "</g>\n",
       "</svg>"
      ],
      "text/plain": [
       "<IPython.core.display.SVG object>"
      ]
     },
     "metadata": {},
     "output_type": "display_data"
    }
   ],
   "source": [
    "plot(0:0.1:10,sin(0:0.1:10))"
   ]
  },
  {
   "cell_type": "markdown",
   "metadata": {},
   "source": [
    "[Sok](https://github.com/ipython/ipython/wiki/IPython-kernels-for-other-languages) másik kernel is van még..\n",
    "itt egy [exotikus](http://nbviewer.ipython.org/gist/robbielynch/e611442ca2d056f3b78f).."
   ]
  }
 ],
 "metadata": {
  "kernelspec": {
   "display_name": "Octave",
   "language": "octave",
   "name": "octave_kernel"
  },
  "language_info": {
   "codemirror_mode": "Octave",
   "file_extension": ".m",
   "help_links": [
    {
     "text": "MetaKernel Magics",
     "url": "https://github.com/calysto/metakernel/blob/master/metakernel/magics/README.md"
    }
   ],
   "mimetype": "text/x-octave",
   "name": "octave_kernel"
  },
  "latex_envs": {
   "bibliofile": "biblio.bib",
   "cite_by": "apalike",
   "current_citInitial": 1,
   "eqLabelWithNumbers": true,
   "eqNumInitial": 0
  }
 },
 "nbformat": 4,
 "nbformat_minor": 0
}
