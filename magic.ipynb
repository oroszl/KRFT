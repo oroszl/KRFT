{
 "cells": [
  {
   "cell_type": "markdown",
   "metadata": {},
   "source": [
    "# Cell magic\n",
    "\n",
    "## Shell"
   ]
  },
  {
   "cell_type": "code",
   "execution_count": 1,
   "metadata": {
    "collapsed": false
   },
   "outputs": [
    {
     "name": "stdout",
     "output_type": "stream",
     "text": [
      "ez_egy_minta_notebook.ipynb  interaktiv.ipynb\t     markdown.ipynb\r\n",
      "ez_egy_minta_notebook.zip    KRFT prezentáció.ipynb  octave.ipynb\r\n",
      "indulagorogaludni.wav\t     magic.ipynb\t     webGL.ipynb\r\n"
     ]
    }
   ],
   "source": [
    "!ls"
   ]
  },
  {
   "cell_type": "code",
   "execution_count": 2,
   "metadata": {
    "collapsed": false
   },
   "outputs": [
    {
     "name": "stdout",
     "output_type": "stream",
     "text": [
      " 2302 ?        Sl     0:00 /usr/bin/python /usr/bin/blueman-applet\r\n",
      " 2313 ?        Sl     0:10 /usr/bin/python3 /usr/bin/indicator-cpufreq\r\n",
      " 2324 ?        Sl     0:03 /usr/bin/python /usr/share/system-config-printer/appl\r\n",
      " 4617 ?        Sl     0:13 /usr/bin/python3 /usr/local/bin/jupyter-notebook --no\r\n",
      "11388 ?        Sl     0:02 /usr/bin/python3 -m IPython.kernel -f /run/user/1000/\r\n",
      "12209 ?        Sl     0:00 /usr/bin/python2.7 -m IPython.kernel -f /run/user/100\r\n",
      "12259 ?        Sl     0:03 /usr/bin/python3 -m IPython.kernel -f /run/user/1000/\r\n",
      "12462 ?        Sl     0:05 /usr/bin/python3 -m IPython.kernel -f /run/user/1000/\r\n",
      "12507 ?        Sl     0:04 /usr/bin/python3 -m IPython.kernel -f /run/user/1000/\r\n",
      "12890 ?        Sl     0:00 /usr/bin/python2.7 -m IPython.kernel -f /run/user/100\r\n",
      "12913 pts/11   Ss+    0:00 /bin/sh -c ps x|grep python\r\n",
      "12915 pts/11   S+     0:00 grep python\r\n"
     ]
    }
   ],
   "source": [
    "!ps x|grep python"
   ]
  },
  {
   "cell_type": "markdown",
   "metadata": {},
   "source": [
    "## Fortran\n",
    "\n",
    "A notebookba definiált fortran függvényeket a [fortran_magic](https://github.com/mgaitan/fortran_magic) csomag segítségével tudjuk használni"
   ]
  },
  {
   "cell_type": "code",
   "execution_count": 3,
   "metadata": {
    "collapsed": false
   },
   "outputs": [
    {
     "name": "stderr",
     "output_type": "stream",
     "text": [
      "/usr/local/lib/python2.7/dist-packages/IPython/utils/path.py:264: UserWarning: get_ipython_cache_dir has moved to the IPython.paths module\n",
      "  warn(\"get_ipython_cache_dir has moved to the IPython.paths module\")\n"
     ]
    },
    {
     "data": {
      "application/javascript": [
       "$.getScript(\"https://raw.github.com/marijnh/CodeMirror/master/mode/fortran/fortran.js\", function () {\n",
       "IPython.config.cell_magic_highlight['magic_fortran'] = {'reg':[/^%%fortran/]};});\n"
      ]
     },
     "metadata": {},
     "output_type": "display_data"
    }
   ],
   "source": [
    "%load_ext fortranmagic"
   ]
  },
  {
   "cell_type": "code",
   "execution_count": 4,
   "metadata": {
    "collapsed": false
   },
   "outputs": [],
   "source": [
    "%%fortran\n",
    "\n",
    "subroutine f1(x, y, z)\n",
    "    real, intent(in) :: x,y\n",
    "    real, intent(out) :: z\n",
    "\n",
    "    z = sin(x+y)\n",
    "\n",
    "end subroutine f1"
   ]
  },
  {
   "cell_type": "code",
   "execution_count": 5,
   "metadata": {
    "collapsed": false
   },
   "outputs": [
    {
     "data": {
      "text/plain": [
       "0.6569865942001343"
      ]
     },
     "execution_count": 5,
     "metadata": {},
     "output_type": "execute_result"
    }
   ],
   "source": [
    "f1(3,4)"
   ]
  },
  {
   "cell_type": "code",
   "execution_count": 6,
   "metadata": {
    "collapsed": true
   },
   "outputs": [],
   "source": [
    "?f1"
   ]
  },
  {
   "cell_type": "markdown",
   "metadata": {},
   "source": [
    "## Octave"
   ]
  },
  {
   "cell_type": "markdown",
   "metadata": {},
   "source": [
    "Octave kódot ipython-ból az [oct2py](https://blink1073.github.io/oct2py/source/info.html) csomag segítségével tudunk hívni."
   ]
  },
  {
   "cell_type": "code",
   "execution_count": 7,
   "metadata": {
    "collapsed": false
   },
   "outputs": [],
   "source": [
    "%load_ext oct2py.ipython"
   ]
  },
  {
   "cell_type": "code",
   "execution_count": 8,
   "metadata": {
    "collapsed": false
   },
   "outputs": [
    {
     "data": {
      "text/plain": [
       "A =\n",
       "\n",
       " Columns 1 through 8:\n",
       "\n",
       "  0.22425  0.24625  0.53771  0.44654  0.88576  0.42373  0.68136  0.51061\n",
       "  0.70274  0.77759  0.63257  0.07283  0.40442  0.56725  0.16471  0.44224\n",
       "  0.80263  0.05886  0.29032  0.68240  0.95559  0.23567  0.49142  0.86392\n",
       "  0.15322  0.95112  0.33711  0.80755  0.93595  0.99139  0.95011  0.98641\n",
       "  0.59346  0.39607  0.25361  0.53897  0.12727  0.91772  0.02262  0.93181\n",
       "  0.54050  0.58792  0.89117  0.67274  0.90958  0.70609  0.20258  0.36015\n",
       "  0.17277  0.70727  0.13866  0.57210  0.58139  0.94077  0.66275  0.12796\n",
       "  0.59171  0.15255  0.19126  0.47101  0.53072  0.90097  0.82488  0.84875\n",
       "  0.21817  0.19197  0.81380  0.45403  0.05483  0.93287  0.84168  0.82650\n",
       "  0.26912  0.94119  0.47862  0.95004  0.72847  0.68283  0.08183  0.30373\n",
       "\n",
       " Columns 9 and 10:\n",
       "\n",
       "  0.55322  0.41415\n",
       "  0.93402  0.60311\n",
       "  0.94578  0.07814\n",
       "  0.44409  0.55035\n",
       "  0.50859  0.40619\n",
       "  0.24150  0.87458\n",
       "  0.41587  0.48706\n",
       "  0.71345  0.04251\n",
       "  0.59883  0.59856\n",
       "  0.20986  0.46976"
      ]
     },
     "metadata": {},
     "output_type": "display_data"
    }
   ],
   "source": [
    "%%octave\n",
    "A=rand(10)"
   ]
  },
  {
   "cell_type": "code",
   "execution_count": 9,
   "metadata": {
    "collapsed": false
   },
   "outputs": [
    {
     "ename": "NameError",
     "evalue": "name 'A' is not defined",
     "output_type": "error",
     "traceback": [
      "\u001b[1;31m---------------------------------------------------------------------------\u001b[0m",
      "\u001b[1;31mNameError\u001b[0m                                 Traceback (most recent call last)",
      "\u001b[1;32m<ipython-input-9-bf072e911907>\u001b[0m in \u001b[0;36m<module>\u001b[1;34m()\u001b[0m\n\u001b[1;32m----> 1\u001b[1;33m \u001b[0mA\u001b[0m\u001b[1;33m\u001b[0m\u001b[0m\n\u001b[0m",
      "\u001b[1;31mNameError\u001b[0m: name 'A' is not defined"
     ]
    }
   ],
   "source": [
    "A"
   ]
  },
  {
   "cell_type": "code",
   "execution_count": 10,
   "metadata": {
    "collapsed": false
   },
   "outputs": [
    {
     "data": {
      "text/plain": []
     },
     "metadata": {},
     "output_type": "display_data"
    },
    {
     "data": {
      "text/plain": [
       "array([[ 1.,  2.],\n",
       "       [ 3.,  4.]])"
      ]
     },
     "execution_count": 10,
     "metadata": {},
     "output_type": "execute_result"
    }
   ],
   "source": [
    "x = %octave [1 2; 3 4];\n",
    "x"
   ]
  },
  {
   "cell_type": "code",
   "execution_count": 9,
   "metadata": {
    "collapsed": false
   },
   "outputs": [
    {
     "data": {
      "text/plain": [
       "12*x^4 - 2.5*x^3 - 8*x^2 - 0.1*x^1 + 8"
      ]
     },
     "metadata": {},
     "output_type": "display_data"
    },
    {
     "data": {
      "image/svg+xml": [
       "<svg height=\"420px\" viewBox=\"0 0 560 420\" width=\"560px\" xmlns=\"http://www.w3.org/2000/svg\" xmlns:xlink=\"http://www.w3.org/1999/xlink\">\n",
       "\n",
       "<title>Gnuplot</title>\n",
       "<desc>Produced by GNUPLOT 4.6 patchlevel 4 </desc>\n",
       "\n",
       "<g id=\"gnuplot_canvas\">\n",
       "\n",
       "<rect fill=\"none\" height=\"420\" width=\"560\" x=\"0\" y=\"0\"/>\n",
       "<defs>\n",
       "\n",
       "\t<circle id=\"gpDot\" r=\"0.5\" stroke-width=\"0.5\"/>\n",
       "\t<path d=\"M-1,0 h2 M0,-1 v2\" id=\"gpPt0\" stroke=\"currentColor\" stroke-width=\"0.333\"/>\n",
       "\t<path d=\"M-1,-1 L1,1 M1,-1 L-1,1\" id=\"gpPt1\" stroke=\"currentColor\" stroke-width=\"0.333\"/>\n",
       "\t<path d=\"M-1,0 L1,0 M0,-1 L0,1 M-1,-1 L1,1 M-1,1 L1,-1\" id=\"gpPt2\" stroke=\"currentColor\" stroke-width=\"0.333\"/>\n",
       "\t<rect height=\"2\" id=\"gpPt3\" stroke=\"currentColor\" stroke-width=\"0.333\" width=\"2\" x=\"-1\" y=\"-1\"/>\n",
       "\t<rect fill=\"currentColor\" height=\"2\" id=\"gpPt4\" stroke=\"currentColor\" stroke-width=\"0.333\" width=\"2\" x=\"-1\" y=\"-1\"/>\n",
       "\t<circle cx=\"0\" cy=\"0\" id=\"gpPt5\" r=\"1\" stroke=\"currentColor\" stroke-width=\"0.333\"/>\n",
       "\t<use fill=\"currentColor\" id=\"gpPt6\" stroke=\"none\" xlink:href=\"#gpPt5\"/>\n",
       "\t<path d=\"M0,-1.33 L-1.33,0.67 L1.33,0.67 z\" id=\"gpPt7\" stroke=\"currentColor\" stroke-width=\"0.333\"/>\n",
       "\t<use fill=\"currentColor\" id=\"gpPt8\" stroke=\"none\" xlink:href=\"#gpPt7\"/>\n",
       "\t<use id=\"gpPt9\" stroke=\"currentColor\" transform=\"rotate(180)\" xlink:href=\"#gpPt7\"/>\n",
       "\t<use fill=\"currentColor\" id=\"gpPt10\" stroke=\"none\" xlink:href=\"#gpPt9\"/>\n",
       "\t<use id=\"gpPt11\" stroke=\"currentColor\" transform=\"rotate(45)\" xlink:href=\"#gpPt3\"/>\n",
       "\t<use fill=\"currentColor\" id=\"gpPt12\" stroke=\"none\" xlink:href=\"#gpPt11\"/>\n",
       "</defs>\n",
       "<g style=\"fill:none; color:white; stroke:currentColor; stroke-width:1.00; stroke-linecap:butt; stroke-linejoin:miter\">\n",
       "</g>\n",
       "<g style=\"fill:none; color:black; stroke:currentColor; stroke-width:1.00; stroke-linecap:butt; stroke-linejoin:miter\">\n",
       "\t<g style=\"stroke:none; shape-rendering:crispEdges\">\n",
       "\t\t<polygon fill=\"rgb(255, 255, 255)\" points=\"30.8,396.0 543.0,396.0 543.0,11.4 30.8,11.4 \"/>\n",
       "\t</g>\n",
       "\t<path d=\"M30.8,396.0 L30.8,11.4 L543.0,11.4 L543.0,396.0 L30.8,396.0  h0.01\" stroke=\"black\"/></g>\n",
       "<g style=\"fill:none; color:black; stroke:black; stroke-width:0.50; stroke-linecap:butt; stroke-linejoin:miter\">\n",
       "\t<path d=\"M30.8,396.0 L39.2,396.0 M543.1,396.0 L534.7,396.0  h0.01\" stroke=\"black\"/>\t<g style=\"stroke:none; fill:rgb(0,0,0); font-family:{}; font-size:10.00pt; text-anchor:end\" transform=\"translate(25.2,399.7)\">\n",
       "\t\t<text><tspan>6</tspan></text>\n",
       "\t</g>\n",
       "\t<path d=\"M30.8,341.0 L39.2,341.0 M543.1,341.0 L534.7,341.0  h0.01\" stroke=\"black\"/>\t<g style=\"stroke:none; fill:rgb(0,0,0); font-family:{}; font-size:10.00pt; text-anchor:end\" transform=\"translate(25.2,344.7)\">\n",
       "\t\t<text><tspan>6.5</tspan></text>\n",
       "\t</g>\n",
       "\t<path d=\"M30.8,286.1 L39.2,286.1 M543.1,286.1 L534.7,286.1  h0.01\" stroke=\"black\"/>\t<g style=\"stroke:none; fill:rgb(0,0,0); font-family:{}; font-size:10.00pt; text-anchor:end\" transform=\"translate(25.2,289.8)\">\n",
       "\t\t<text><tspan>7</tspan></text>\n",
       "\t</g>\n",
       "\t<path d=\"M30.8,231.1 L39.2,231.1 M543.1,231.1 L534.7,231.1  h0.01\" stroke=\"black\"/>\t<g style=\"stroke:none; fill:rgb(0,0,0); font-family:{}; font-size:10.00pt; text-anchor:end\" transform=\"translate(25.2,234.8)\">\n",
       "\t\t<text><tspan>7.5</tspan></text>\n",
       "\t</g>\n",
       "\t<path d=\"M30.8,176.2 L39.2,176.2 M543.1,176.2 L534.7,176.2  h0.01\" stroke=\"black\"/>\t<g style=\"stroke:none; fill:rgb(0,0,0); font-family:{}; font-size:10.00pt; text-anchor:end\" transform=\"translate(25.2,179.9)\">\n",
       "\t\t<text><tspan>8</tspan></text>\n",
       "\t</g>\n",
       "\t<path d=\"M30.8,121.2 L39.2,121.2 M543.1,121.2 L534.7,121.2  h0.01\" stroke=\"black\"/>\t<g style=\"stroke:none; fill:rgb(0,0,0); font-family:{}; font-size:10.00pt; text-anchor:end\" transform=\"translate(25.2,124.9)\">\n",
       "\t\t<text><tspan>8.5</tspan></text>\n",
       "\t</g>\n",
       "\t<path d=\"M30.8,66.3 L39.2,66.3 M543.1,66.3 L534.7,66.3  h0.01\" stroke=\"black\"/>\t<g style=\"stroke:none; fill:rgb(0,0,0); font-family:{}; font-size:10.00pt; text-anchor:end\" transform=\"translate(25.2,70.0)\">\n",
       "\t\t<text><tspan>9</tspan></text>\n",
       "\t</g>\n",
       "\t<path d=\"M30.8,11.3 L39.2,11.3 M543.1,11.3 L534.7,11.3  h0.01\" stroke=\"black\"/>\t<g style=\"stroke:none; fill:rgb(0,0,0); font-family:{}; font-size:10.00pt; text-anchor:end\" transform=\"translate(25.2,15.0)\">\n",
       "\t\t<text><tspan>9.5</tspan></text>\n",
       "\t</g>\n",
       "\t<path d=\"M30.8,396.0 L30.8,387.6 M30.8,11.3 L30.8,19.7  h0.01\" stroke=\"black\"/>\t<g style=\"stroke:none; fill:rgb(0,0,0); font-family:{}; font-size:10.00pt; text-anchor:middle\" transform=\"translate(30.8,411.7)\">\n",
       "\t\t<text><tspan>0</tspan></text>\n",
       "\t</g>\n",
       "\t<path d=\"M133.3,396.0 L133.3,387.6 M133.3,11.3 L133.3,19.7  h0.01\" stroke=\"black\"/>\t<g style=\"stroke:none; fill:rgb(0,0,0); font-family:{}; font-size:10.00pt; text-anchor:middle\" transform=\"translate(133.3,411.7)\">\n",
       "\t\t<text><tspan>0.2</tspan></text>\n",
       "\t</g>\n",
       "\t<path d=\"M235.7,396.0 L235.7,387.6 M235.7,11.3 L235.7,19.7  h0.01\" stroke=\"black\"/>\t<g style=\"stroke:none; fill:rgb(0,0,0); font-family:{}; font-size:10.00pt; text-anchor:middle\" transform=\"translate(235.7,411.7)\">\n",
       "\t\t<text><tspan>0.4</tspan></text>\n",
       "\t</g>\n",
       "\t<path d=\"M338.2,396.0 L338.2,387.6 M338.2,11.3 L338.2,19.7  h0.01\" stroke=\"black\"/>\t<g style=\"stroke:none; fill:rgb(0,0,0); font-family:{}; font-size:10.00pt; text-anchor:middle\" transform=\"translate(338.2,411.7)\">\n",
       "\t\t<text><tspan>0.6</tspan></text>\n",
       "\t</g>\n",
       "\t<path d=\"M440.6,396.0 L440.6,387.6 M440.6,11.3 L440.6,19.7  h0.01\" stroke=\"black\"/>\t<g style=\"stroke:none; fill:rgb(0,0,0); font-family:{}; font-size:10.00pt; text-anchor:middle\" transform=\"translate(440.6,411.7)\">\n",
       "\t\t<text><tspan>0.8</tspan></text>\n",
       "\t</g>\n",
       "\t<path d=\"M543.1,396.0 L543.1,387.6 M543.1,11.3 L543.1,19.7  h0.01\" stroke=\"black\"/>\t<g style=\"stroke:none; fill:rgb(0,0,0); font-family:{}; font-size:10.00pt; text-anchor:middle\" transform=\"translate(543.1,411.7)\">\n",
       "\t\t<text><tspan>1</tspan></text>\n",
       "\t</g>\n",
       "\t<path d=\"M30.8,11.3 L30.8,396.0 L543.1,396.0 L543.1,11.3 L30.8,11.3 Z  h0.01\" stroke=\"black\"/></g>\n",
       "\t<g id=\"gnuplot_plot_1a\"><title>gnuplot_plot_1a</title>\n",
       "<g style=\"fill:none; color:red; stroke:currentColor; stroke-width:0.50; stroke-linecap:butt; stroke-linejoin:miter\">\n",
       "\t<path d=\"M30.8,176.2 L35.9,176.4 L41.0,176.7 L46.2,177.3 L51.3,178.0 L56.4,178.9 L61.5,180.0 L66.7,181.3    L71.8,182.8 L76.9,184.4 L82.0,186.2 L87.2,188.2 L92.3,190.4 L97.4,192.7 L102.5,195.2 L107.6,197.9    L112.8,200.7 L117.9,203.7 L123.0,206.9 L128.1,210.2 L133.3,213.6 L138.4,217.2 L143.5,221.0 L148.6,224.9    L153.8,228.9 L158.9,233.0 L164.0,237.3 L169.1,241.6 L174.2,246.1 L179.4,250.7 L184.5,255.3 L189.6,260.1    L194.7,264.9 L199.9,269.8 L205.0,274.7 L210.1,279.7 L215.2,284.8 L220.4,289.8 L225.5,294.9 L230.6,300.0    L235.7,305.1 L240.8,310.2 L246.0,315.2 L251.1,320.2 L256.2,325.2 L261.3,330.1 L266.5,335.0 L271.6,339.7    L276.7,344.4 L281.8,349.0 L287.0,353.4 L292.1,357.7 L297.2,361.9 L302.3,365.8 L307.4,369.6 L312.6,373.2    L317.7,376.6 L322.8,379.8 L327.9,382.7 L333.1,385.4 L338.2,387.7 L343.3,389.8 L348.4,391.6 L353.5,393.0    L358.7,394.1 L363.8,394.8 L368.9,395.2 L374.0,395.1 L379.2,394.6 L384.3,393.7 L389.4,392.3 L394.5,390.4    L399.7,388.0 L404.8,385.1 L409.9,381.7 L415.0,377.6 L420.1,373.0 L425.3,367.8 L430.4,361.9 L435.5,355.4    L440.6,348.2 L445.8,340.3 L450.9,331.6 L456.0,322.2 L461.1,312.0 L466.3,301.1 L471.4,289.3 L476.5,276.6    L481.6,263.1 L486.7,248.6 L491.9,233.2 L497.0,216.9 L502.1,199.6 L507.2,181.3 L512.4,161.9 L517.5,141.5    L522.6,119.9 L527.7,97.3 L532.9,73.5 L538.0,48.5 L543.1,22.3  h0.01\" stroke=\"rgb(  0,   0, 255)\"/></g>\n",
       "\t</g>\n",
       "<g style=\"fill:none; color:black; stroke:currentColor; stroke-width:0.50; stroke-linecap:butt; stroke-linejoin:miter\">\n",
       "</g>\n",
       "</g>\n",
       "</svg>"
      ]
     },
     "metadata": {},
     "output_type": "display_data"
    }
   ],
   "source": [
    "%%octave -f svg\n",
    "p = [12 -2.5 -8 -0.1 8];\n",
    "x = 0:0.01:1;\n",
    "\n",
    "polyout(p, 'x')\n",
    "plot(x, polyval(p, x));"
   ]
  },
  {
   "cell_type": "code",
   "execution_count": null,
   "metadata": {
    "collapsed": true
   },
   "outputs": [],
   "source": []
  }
 ],
 "metadata": {
  "kernelspec": {
   "display_name": "Python 2",
   "language": "python",
   "name": "python2"
  },
  "language_info": {
   "codemirror_mode": {
    "name": "ipython",
    "version": 2
   },
   "file_extension": ".py",
   "mimetype": "text/x-python",
   "name": "python",
   "nbconvert_exporter": "python",
   "pygments_lexer": "ipython2",
   "version": "2.7.6"
  },
  "latex_envs": {
   "bibliofile": "biblio.bib",
   "cite_by": "apalike",
   "current_citInitial": 1,
   "eqLabelWithNumbers": true,
   "eqNumInitial": 0
  }
 },
 "nbformat": 4,
 "nbformat_minor": 0
}
