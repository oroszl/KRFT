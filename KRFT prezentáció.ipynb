{
 "cells": [
  {
   "cell_type": "markdown",
   "metadata": {
    "slideshow": {
     "slide_type": "slide"
    }
   },
   "source": [
    "# Jupyter az oktatásban"
   ]
  },
  {
   "cell_type": "markdown",
   "metadata": {
    "slideshow": {
     "slide_type": "slide"
    }
   },
   "source": [
    "## Telepítési élmények diákszemmel\n",
    "![](http://derpdesk.com/wp-content/uploads/2011/12/Nightmare-610x407.jpg)"
   ]
  },
  {
   "cell_type": "markdown",
   "metadata": {
    "slideshow": {
     "slide_type": "slide"
    }
   },
   "source": [
    "## Jupyter diákszemmel\n",
    "![](http://nb4799.neu.edu/wordpress/wp-content/uploads/2015/05/787.png)"
   ]
  },
  {
   "cell_type": "markdown",
   "metadata": {
    "slideshow": {
     "slide_type": "slide"
    }
   },
   "source": [
    "![](https://acomdpsstorage.blob.core.windows.net/dpsmedia-prod/azure.microsoft.com/en-us/documentation/articles/virtual-machines-python-ipython-notebook/20151202023054/jupyter-tree-view.png)"
   ]
  },
  {
   "cell_type": "markdown",
   "metadata": {
    "slideshow": {
     "slide_type": "slide"
    }
   },
   "source": [
    "![](http://35fm8uj27so3jjon62kmm4qo.wpengine.netdna-cdn.com/wp-content/uploads/2015/06/jupyter_import_and_connect.png)"
   ]
  },
  {
   "cell_type": "markdown",
   "metadata": {
    "slideshow": {
     "slide_type": "slide"
    }
   },
   "source": [
    "## Miért jó az oktatásban\n",
    "\n",
    "- REPL: Read  Evaluate  Print  Loop\n",
    "- Kód + gazdag leíró környezet (Markdown)\n",
    "- Interaktív vizualizáció\n",
    "- Tanítást segítő eszközök\n"
   ]
  },
  {
   "cell_type": "markdown",
   "metadata": {
    "slideshow": {
     "slide_type": "slide"
    }
   },
   "source": [
    "## Miért jó a kutatásban\n",
    "\n",
    "- REPL: Read  Evaluate  Print  Loop\n",
    "- Kód + Gazdag leíró környezet (Markdown)"
   ]
  },
  {
   "cell_type": "markdown",
   "metadata": {
    "slideshow": {
     "slide_type": "fragment"
    }
   },
   "source": [
    "- Nyelv agnosztikus (python, octave , R , javascript, C , Fortran ... )"
   ]
  },
  {
   "cell_type": "markdown",
   "metadata": {
    "collapsed": true,
    "slideshow": {
     "slide_type": "fragment"
    }
   },
   "source": [
    "- Az első gondolatoktól a publikációig egy egységes könyezet"
   ]
  },
  {
   "cell_type": "markdown",
   "metadata": {
    "slideshow": {
     "slide_type": "slide"
    }
   },
   "source": [
    "## Néhány minta notebook"
   ]
  },
  {
   "cell_type": "markdown",
   "metadata": {},
   "source": [
    "- [Markdown](markdown.ipynb)\n",
    "- [Python intró](ez_egy_minta_notebook.ipynb)\n",
    "- Más nyelvek [cell magic](magic.ipynb), [octave kernel](octave.ipynb)\n",
    "- Fancy stuff [interaktív ábrák](interaktiv.ipynb), [webGL](webGL.ipynb) \n",
    "- Számprob [notebook](http://oroszl.web.elte.hu/szamprob/)-ok, nbconvert\n",
    "- [krftcloud](https://148.6.81.76)"
   ]
  },
  {
   "cell_type": "markdown",
   "metadata": {
    "slideshow": {
     "slide_type": "slide"
    }
   },
   "source": [
    "![](http://i0.wp.com/fusiondotnet.files.wordpress.com/2015/08/steve-1.jpg?resize=1600%2C900&quality=80&strip=all)"
   ]
  },
  {
   "cell_type": "code",
   "execution_count": 1,
   "metadata": {
    "collapsed": false,
    "slideshow": {
     "slide_type": "skip"
    }
   },
   "outputs": [
    {
     "name": "stdout",
     "output_type": "stream",
     "text": [
      "Populating the interactive namespace from numpy and matplotlib\n"
     ]
    }
   ],
   "source": [
    "%pylab inline\n",
    "from ipywidgets import interact\n",
    "\n",
    "def fun(n):\n",
    "    a=sqrt(2)\n",
    "    for i in range(1,n):\n",
    "        a=sqrt((1-sqrt(1-a**2/4))**2+a**2/4)\n",
    "    return a*2**n\n",
    "phi=linspace(0,pi/2,60)\n",
    "figsize(8,8)\n",
    "\n",
    "def geo(m=0):\n",
    "    plot([0,0,1],[1,0,0],color='black')\n",
    "    plot(cos(phi),sin(phi),lw=25,color='black')\n",
    "    p=linspace(0,pi/2,2**m+1)\n",
    "    plot([0,0,cos(p[1])],[1,0,sin(p[1])],color='black')\n",
    "    plot(cos(p[0::2]),sin(p[0::2]),'--',lw=4,color='gray')\n",
    "    plot(cos(p),sin(p),'o-',lw=8,color='red',ms=20,mec='red')\n",
    "    #\n",
    "    axes().set_aspect('equal')\n",
    "    xlim(-0.1,1.1)\n",
    "    ylim(-0.1,1.1)\n",
    "    axis('off');\n",
    "    #\n",
    "    text(0.7,0.95,r'$\\pi/2=$'+str(pi/2),fontsize=50)\n",
    "    text(0.7,0.8,r'$\\;\\,s=$'+str(fun(m+1)/2),fontsize=50,color='red')\n",
    "    if m==1:\n",
    "        text(0.5,-0.1,r'$1$',fontsize=50)\n",
    "        text(-0.1,0.5,r'$1$',fontsize=50)\n",
    "        text(0.5,0.6,r'$x$',fontsize=50)\n",
    "        text(0.1,0.35,r'$1-x$',fontsize=50)\n",
    "        text(0.5,0.2,r'$\\frac{a_{m-1}}{2}$',fontsize=50)\n",
    "        text(0.9,0.35,r'$a_m$',fontsize=50,color='red')\n",
    "        text(1.2,0.5,r'$a^2_{m-1}/4+(1-x)^2=1$',fontsize=50)\n",
    "        text(1.2,0.3,r'$a^2_{m-1}/4+x^2=a^2_m$',fontsize=50)\n",
    "        text(1.2,0.1,r'$s=2^m a_m$',fontsize=50,color='red')\n",
    "    elif m==10:\n",
    "        text(1.1,0.4,r'$\\lim_{m\\rightarrow\\infty} \\left (2^m a_m\\right)=\\pi/2 $',fontsize=60,color='magenta')\n",
    "    "
   ]
  },
  {
   "cell_type": "markdown",
   "metadata": {
    "slideshow": {
     "slide_type": "slide"
    }
   },
   "source": [
    "# $\\pi$ meghatározása"
   ]
  },
  {
   "cell_type": "code",
   "execution_count": 2,
   "metadata": {
    "collapsed": false,
    "slideshow": {
     "slide_type": "fragment"
    }
   },
   "outputs": [
    {
     "data": {
      "image/png": "[encoded data removed]",
      "text/plain": [
       "<matplotlib.figure.Figure at 0x7f78250fe978>"
      ]
     },
     "metadata": {},
     "output_type": "display_data"
    }
   ],
   "source": [
    "interact(geo,m=(0,17));"
   ]
  },
  {
   "cell_type": "code",
   "execution_count": 3,
   "metadata": {
    "collapsed": false,
    "slideshow": {
     "slide_type": "skip"
    }
   },
   "outputs": [
    {
     "data": {
      "text/html": [
       "<script>\n",
       "code_show=true; \n",
       "function code_toggle() {\n",
       " if (code_show){\n",
       " $('div.input').hide();\n",
       " } else {\n",
       " $('div.input').show();\n",
       " }\n",
       " code_show = !code_show\n",
       "} \n",
       "$( document ).ready(code_toggle);\n",
       "</script>\n",
       "<form action=\"javascript:code_toggle()\"><input type=\"submit\" value=\"Click here to toggle on/off the raw code.\"></form>"
      ],
      "text/plain": [
       "<IPython.core.display.HTML object>"
      ]
     },
     "execution_count": 3,
     "metadata": {},
     "output_type": "execute_result"
    }
   ],
   "source": [
    "from IPython.core.display import HTML\n",
    "HTML('''<script>\n",
    "code_show=true; \n",
    "function code_toggle() {\n",
    " if (code_show){\n",
    " $('div.input').hide();\n",
    " } else {\n",
    " $('div.input').show();\n",
    " }\n",
    " code_show = !code_show\n",
    "} \n",
    "$( document ).ready(code_toggle);\n",
    "</script>\n",
    "<form action=\"javascript:code_toggle()\"><input type=\"submit\" value=\"Click here to toggle on/off the raw code.\"></form>''')"
   ]
  }
 ],
 "metadata": {
  "celltoolbar": "Slideshow",
  "kernelspec": {
   "display_name": "Python 3",
   "language": "python",
   "name": "python3"
  },
  "language_info": {
   "codemirror_mode": {
    "name": "ipython",
    "version": 3
   },
   "file_extension": ".py",
   "mimetype": "text/x-python",
   "name": "python",
   "nbconvert_exporter": "python",
   "pygments_lexer": "ipython3",
   "version": "3.4.3"
  },
  "latex_envs": {
   "bibliofile": "biblio.bib",
   "cite_by": "apalike",
   "current_citInitial": 1,
   "eqLabelWithNumbers": true,
   "eqNumInitial": 0
  }
 },
 "nbformat": 4,
 "nbformat_minor": 0
}
